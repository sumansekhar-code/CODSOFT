{
 "cells": [
  {
   "cell_type": "code",
   "execution_count": 1,
   "id": "880e44a2",
   "metadata": {
    "execution": {
     "iopub.execute_input": "2023-07-27T15:04:14.925945Z",
     "iopub.status.busy": "2023-07-27T15:04:14.925552Z",
     "iopub.status.idle": "2023-07-27T15:04:14.929847Z",
     "shell.execute_reply": "2023-07-27T15:04:14.929033Z"
    },
    "papermill": {
     "duration": 0.013079,
     "end_time": "2023-07-27T15:04:14.932907",
     "exception": false,
     "start_time": "2023-07-27T15:04:14.919828",
     "status": "completed"
    },
    "tags": []
   },
   "outputs": [],
   "source": [
    "#pip install numpy pandas scikit-learn"
   ]
  },
  {
   "cell_type": "code",
   "execution_count": 2,
   "id": "ba3a0b7c",
   "metadata": {
    "execution": {
     "iopub.execute_input": "2023-07-27T15:04:14.942481Z",
     "iopub.status.busy": "2023-07-27T15:04:14.941866Z",
     "iopub.status.idle": "2023-07-27T15:04:16.549782Z",
     "shell.execute_reply": "2023-07-27T15:04:16.548865Z"
    },
    "papermill": {
     "duration": 1.61531,
     "end_time": "2023-07-27T15:04:16.552240",
     "exception": false,
     "start_time": "2023-07-27T15:04:14.936930",
     "status": "completed"
    },
    "tags": []
   },
   "outputs": [
    {
     "name": "stderr",
     "output_type": "stream",
     "text": [
      "/opt/conda/lib/python3.10/site-packages/scipy/__init__.py:146: UserWarning: A NumPy version >=1.16.5 and <1.23.0 is required for this version of SciPy (detected version 1.23.5\n",
      "  warnings.warn(f\"A NumPy version >={np_minversion} and <{np_maxversion}\"\n"
     ]
    }
   ],
   "source": [
    "import numpy as np\n",
    "import pandas as pd\n",
    "from sklearn.model_selection import train_test_split\n",
    "from sklearn.preprocessing import StandardScaler\n",
    "from sklearn.ensemble import RandomForestClassifier\n",
    "from sklearn.metrics import accuracy_score, classification_report, confusion_matrix"
   ]
  },
  {
   "cell_type": "code",
   "execution_count": 3,
   "id": "5569b924",
   "metadata": {
    "execution": {
     "iopub.execute_input": "2023-07-27T15:04:16.562490Z",
     "iopub.status.busy": "2023-07-27T15:04:16.561373Z",
     "iopub.status.idle": "2023-07-27T15:04:16.586550Z",
     "shell.execute_reply": "2023-07-27T15:04:16.585706Z"
    },
    "papermill": {
     "duration": 0.032888,
     "end_time": "2023-07-27T15:04:16.589161",
     "exception": false,
     "start_time": "2023-07-27T15:04:16.556273",
     "status": "completed"
    },
    "tags": []
   },
   "outputs": [],
   "source": [
    "#Load the Titanic dataset\n",
    "titanic_data = pd.read_csv('/kaggle/input/titanic-dataset/titanic (2).csv')"
   ]
  },
  {
   "cell_type": "code",
   "execution_count": 4,
   "id": "5e453da4",
   "metadata": {
    "execution": {
     "iopub.execute_input": "2023-07-27T15:04:16.598201Z",
     "iopub.status.busy": "2023-07-27T15:04:16.597825Z",
     "iopub.status.idle": "2023-07-27T15:04:16.620114Z",
     "shell.execute_reply": "2023-07-27T15:04:16.618939Z"
    },
    "papermill": {
     "duration": 0.029824,
     "end_time": "2023-07-27T15:04:16.622727",
     "exception": false,
     "start_time": "2023-07-27T15:04:16.592903",
     "status": "completed"
    },
    "tags": []
   },
   "outputs": [],
   "source": [
    "# Handle missing values\n",
    "titanic_data.drop(['PassengerId', 'Name', 'Ticket', 'Cabin'], axis=1, inplace=True)\n",
    "titanic_data['Embarked'].fillna(titanic_data['Embarked'].mode()[0], inplace=True)\n",
    "titanic_data['Age'].fillna(titanic_data['Age'].mean(), inplace=True)\n",
    "titanic_data['Fare'].fillna(titanic_data['Fare'].mean(), inplace=True)"
   ]
  },
  {
   "cell_type": "code",
   "execution_count": 5,
   "id": "a774cc3f",
   "metadata": {
    "execution": {
     "iopub.execute_input": "2023-07-27T15:04:16.631939Z",
     "iopub.status.busy": "2023-07-27T15:04:16.631253Z",
     "iopub.status.idle": "2023-07-27T15:04:16.644259Z",
     "shell.execute_reply": "2023-07-27T15:04:16.642821Z"
    },
    "papermill": {
     "duration": 0.020632,
     "end_time": "2023-07-27T15:04:16.647038",
     "exception": false,
     "start_time": "2023-07-27T15:04:16.626406",
     "status": "completed"
    },
    "tags": []
   },
   "outputs": [],
   "source": [
    "# Transformation of data (convert Labeled data into numerical)\n",
    "titanic_data = pd.get_dummies(titanic_data, columns=['Sex', 'Embarked'], drop_first=True)"
   ]
  },
  {
   "cell_type": "code",
   "execution_count": 6,
   "id": "1cc18d38",
   "metadata": {
    "execution": {
     "iopub.execute_input": "2023-07-27T15:04:16.656117Z",
     "iopub.status.busy": "2023-07-27T15:04:16.655751Z",
     "iopub.status.idle": "2023-07-27T15:04:16.662726Z",
     "shell.execute_reply": "2023-07-27T15:04:16.661381Z"
    },
    "papermill": {
     "duration": 0.014281,
     "end_time": "2023-07-27T15:04:16.665032",
     "exception": false,
     "start_time": "2023-07-27T15:04:16.650751",
     "status": "completed"
    },
    "tags": []
   },
   "outputs": [],
   "source": [
    "# Step to train and test the data\n",
    "X = titanic_data.drop('Survived', axis=1)\n",
    "y = titanic_data['Survived']"
   ]
  },
  {
   "cell_type": "code",
   "execution_count": 7,
   "id": "e4e153ba",
   "metadata": {
    "execution": {
     "iopub.execute_input": "2023-07-27T15:04:16.674060Z",
     "iopub.status.busy": "2023-07-27T15:04:16.673699Z",
     "iopub.status.idle": "2023-07-27T15:04:16.682403Z",
     "shell.execute_reply": "2023-07-27T15:04:16.681076Z"
    },
    "papermill": {
     "duration": 0.016293,
     "end_time": "2023-07-27T15:04:16.685059",
     "exception": false,
     "start_time": "2023-07-27T15:04:16.668766",
     "status": "completed"
    },
    "tags": []
   },
   "outputs": [],
   "source": [
    "# Spliting the data into training and testing sets\n",
    "X_train, X_test, y_train, y_test = train_test_split(X, y, test_size=0.2, random_state=42)"
   ]
  },
  {
   "cell_type": "code",
   "execution_count": 8,
   "id": "72d38beb",
   "metadata": {
    "execution": {
     "iopub.execute_input": "2023-07-27T15:04:16.694281Z",
     "iopub.status.busy": "2023-07-27T15:04:16.693657Z",
     "iopub.status.idle": "2023-07-27T15:04:16.705787Z",
     "shell.execute_reply": "2023-07-27T15:04:16.704756Z"
    },
    "papermill": {
     "duration": 0.019567,
     "end_time": "2023-07-27T15:04:16.708314",
     "exception": false,
     "start_time": "2023-07-27T15:04:16.688747",
     "status": "completed"
    },
    "tags": []
   },
   "outputs": [],
   "source": [
    "# Feature scaling\n",
    "scaler = StandardScaler()\n",
    "X_train = scaler.fit_transform(X_train)\n",
    "X_test = scaler.transform(X_test)"
   ]
  },
  {
   "cell_type": "code",
   "execution_count": 9,
   "id": "e5bec62a",
   "metadata": {
    "execution": {
     "iopub.execute_input": "2023-07-27T15:04:16.717544Z",
     "iopub.status.busy": "2023-07-27T15:04:16.717146Z",
     "iopub.status.idle": "2023-07-27T15:04:16.920903Z",
     "shell.execute_reply": "2023-07-27T15:04:16.919633Z"
    },
    "papermill": {
     "duration": 0.211496,
     "end_time": "2023-07-27T15:04:16.923555",
     "exception": false,
     "start_time": "2023-07-27T15:04:16.712059",
     "status": "completed"
    },
    "tags": []
   },
   "outputs": [],
   "source": [
    "# Train the model using Random Forest Classifier\n",
    "clf = RandomForestClassifier(random_state=42)\n",
    "clf.fit(X_train, y_train)\n",
    "y_pred = clf.predict(X_test)"
   ]
  },
  {
   "cell_type": "code",
   "execution_count": 10,
   "id": "abad0e0a",
   "metadata": {
    "execution": {
     "iopub.execute_input": "2023-07-27T15:04:16.932599Z",
     "iopub.status.busy": "2023-07-27T15:04:16.932201Z",
     "iopub.status.idle": "2023-07-27T15:04:16.939215Z",
     "shell.execute_reply": "2023-07-27T15:04:16.938184Z"
    },
    "papermill": {
     "duration": 0.014534,
     "end_time": "2023-07-27T15:04:16.941927",
     "exception": false,
     "start_time": "2023-07-27T15:04:16.927393",
     "status": "completed"
    },
    "tags": []
   },
   "outputs": [
    {
     "name": "stdout",
     "output_type": "stream",
     "text": [
      "Accuracy: 1.00\n"
     ]
    }
   ],
   "source": [
    "# Step 7: Evaluate the model\n",
    "accuracy = accuracy_score(y_test, y_pred)\n",
    "print(f'Accuracy: {accuracy:.2f}')"
   ]
  },
  {
   "cell_type": "code",
   "execution_count": 11,
   "id": "0f2ad8ba",
   "metadata": {
    "execution": {
     "iopub.execute_input": "2023-07-27T15:04:16.951889Z",
     "iopub.status.busy": "2023-07-27T15:04:16.950840Z",
     "iopub.status.idle": "2023-07-27T15:04:16.966368Z",
     "shell.execute_reply": "2023-07-27T15:04:16.964506Z"
    },
    "papermill": {
     "duration": 0.023679,
     "end_time": "2023-07-27T15:04:16.969285",
     "exception": false,
     "start_time": "2023-07-27T15:04:16.945606",
     "status": "completed"
    },
    "tags": []
   },
   "outputs": [
    {
     "name": "stdout",
     "output_type": "stream",
     "text": [
      "Classification Report:\n",
      "              precision    recall  f1-score   support\n",
      "\n",
      "           0       1.00      1.00      1.00        50\n",
      "           1       1.00      1.00      1.00        34\n",
      "\n",
      "    accuracy                           1.00        84\n",
      "   macro avg       1.00      1.00      1.00        84\n",
      "weighted avg       1.00      1.00      1.00        84\n",
      "\n"
     ]
    }
   ],
   "source": [
    "print(\"Classification Report:\")\n",
    "print(classification_report(y_test, y_pred))"
   ]
  },
  {
   "cell_type": "code",
   "execution_count": 12,
   "id": "73f44b43",
   "metadata": {
    "execution": {
     "iopub.execute_input": "2023-07-27T15:04:16.979052Z",
     "iopub.status.busy": "2023-07-27T15:04:16.978689Z",
     "iopub.status.idle": "2023-07-27T15:04:16.987279Z",
     "shell.execute_reply": "2023-07-27T15:04:16.986235Z"
    },
    "papermill": {
     "duration": 0.016148,
     "end_time": "2023-07-27T15:04:16.989487",
     "exception": false,
     "start_time": "2023-07-27T15:04:16.973339",
     "status": "completed"
    },
    "tags": []
   },
   "outputs": [
    {
     "name": "stdout",
     "output_type": "stream",
     "text": [
      "Confusion Matrix:\n",
      "[[50  0]\n",
      " [ 0 34]]\n"
     ]
    }
   ],
   "source": [
    "print(\"Confusion Matrix:\")\n",
    "print(confusion_matrix(y_test, y_pred))"
   ]
  }
 ],
 "metadata": {
  "kernelspec": {
   "display_name": "Python 3",
   "language": "python",
   "name": "python3"
  },
  "language_info": {
   "codemirror_mode": {
    "name": "ipython",
    "version": 3
   },
   "file_extension": ".py",
   "mimetype": "text/x-python",
   "name": "python",
   "nbconvert_exporter": "python",
   "pygments_lexer": "ipython3",
   "version": "3.10.12"
  },
  "papermill": {
   "default_parameters": {},
   "duration": 13.282043,
   "end_time": "2023-07-27T15:04:18.015098",
   "environment_variables": {},
   "exception": null,
   "input_path": "__notebook__.ipynb",
   "output_path": "__notebook__.ipynb",
   "parameters": {},
   "start_time": "2023-07-27T15:04:04.733055",
   "version": "2.4.0"
  }
 },
 "nbformat": 4,
 "nbformat_minor": 5
}
