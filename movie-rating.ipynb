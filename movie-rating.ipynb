{
 "cells": [
  {
   "cell_type": "code",
   "execution_count": 1,
   "id": "ccf510f2",
   "metadata": {
    "execution": {
     "iopub.execute_input": "2023-07-27T17:42:07.140235Z",
     "iopub.status.busy": "2023-07-27T17:42:07.139811Z",
     "iopub.status.idle": "2023-07-27T17:42:08.580964Z",
     "shell.execute_reply": "2023-07-27T17:42:08.579387Z"
    },
    "papermill": {
     "duration": 1.450576,
     "end_time": "2023-07-27T17:42:08.583952",
     "exception": false,
     "start_time": "2023-07-27T17:42:07.133376",
     "status": "completed"
    },
    "tags": []
   },
   "outputs": [
    {
     "name": "stderr",
     "output_type": "stream",
     "text": [
      "/opt/conda/lib/python3.10/site-packages/scipy/__init__.py:146: UserWarning: A NumPy version >=1.16.5 and <1.23.0 is required for this version of SciPy (detected version 1.23.5\n",
      "  warnings.warn(f\"A NumPy version >={np_minversion} and <{np_maxversion}\"\n"
     ]
    }
   ],
   "source": [
    "import numpy as np\n",
    "import pandas as pd\n",
    "from sklearn.model_selection import train_test_split\n",
    "from sklearn.linear_model import LinearRegression\n",
    "from sklearn.metrics import mean_squared_error, r2_score"
   ]
  },
  {
   "cell_type": "code",
   "execution_count": 2,
   "id": "7f740142",
   "metadata": {
    "execution": {
     "iopub.execute_input": "2023-07-27T17:42:08.594796Z",
     "iopub.status.busy": "2023-07-27T17:42:08.593704Z",
     "iopub.status.idle": "2023-07-27T17:42:08.606603Z",
     "shell.execute_reply": "2023-07-27T17:42:08.605474Z"
    },
    "papermill": {
     "duration": 0.0211,
     "end_time": "2023-07-27T17:42:08.609451",
     "exception": false,
     "start_time": "2023-07-27T17:42:08.588351",
     "status": "completed"
    },
    "tags": []
   },
   "outputs": [],
   "source": [
    "# Create a synthetic dataset (Replace this with your own dataset)\n",
    "data = {\n",
    "    'Genre': ['Action', 'Comedy', 'Drama', 'Action', 'Comedy', 'Drama'],\n",
    "    'Director': ['John', 'Jane', 'John', 'Jane', 'John', 'Jane'],\n",
    "    'Budget': [10000000, 15000000, 8000000, 12000000, 9000000, 10000000],\n",
    "    'Rating': [7.8, 6.5, 8.2, 7.1, 6.9, 8.4]\n",
    "}\n",
    "\n",
    "df = pd.DataFrame(data)"
   ]
  },
  {
   "cell_type": "code",
   "execution_count": 3,
   "id": "aaf6e726",
   "metadata": {
    "execution": {
     "iopub.execute_input": "2023-07-27T17:42:08.619235Z",
     "iopub.status.busy": "2023-07-27T17:42:08.618835Z",
     "iopub.status.idle": "2023-07-27T17:42:08.644614Z",
     "shell.execute_reply": "2023-07-27T17:42:08.643460Z"
    },
    "papermill": {
     "duration": 0.033568,
     "end_time": "2023-07-27T17:42:08.647174",
     "exception": false,
     "start_time": "2023-07-27T17:42:08.613606",
     "status": "completed"
    },
    "tags": []
   },
   "outputs": [],
   "source": [
    "# Convert categorical features into numerical using one-hot encoding\n",
    "df = pd.get_dummies(df, columns=['Genre', 'Director'])"
   ]
  },
  {
   "cell_type": "code",
   "execution_count": 4,
   "id": "0515bf85",
   "metadata": {
    "execution": {
     "iopub.execute_input": "2023-07-27T17:42:08.657142Z",
     "iopub.status.busy": "2023-07-27T17:42:08.656716Z",
     "iopub.status.idle": "2023-07-27T17:42:08.663268Z",
     "shell.execute_reply": "2023-07-27T17:42:08.662124Z"
    },
    "papermill": {
     "duration": 0.014298,
     "end_time": "2023-07-27T17:42:08.665696",
     "exception": false,
     "start_time": "2023-07-27T17:42:08.651398",
     "status": "completed"
    },
    "tags": []
   },
   "outputs": [],
   "source": [
    "# Split dataset into features (X) and target (y)\n",
    "X = df.drop(columns=['Rating'])\n",
    "y = df['Rating']"
   ]
  },
  {
   "cell_type": "code",
   "execution_count": 5,
   "id": "28a6c06e",
   "metadata": {
    "execution": {
     "iopub.execute_input": "2023-07-27T17:42:08.675439Z",
     "iopub.status.busy": "2023-07-27T17:42:08.675053Z",
     "iopub.status.idle": "2023-07-27T17:42:08.682210Z",
     "shell.execute_reply": "2023-07-27T17:42:08.681370Z"
    },
    "papermill": {
     "duration": 0.014687,
     "end_time": "2023-07-27T17:42:08.684449",
     "exception": false,
     "start_time": "2023-07-27T17:42:08.669762",
     "status": "completed"
    },
    "tags": []
   },
   "outputs": [],
   "source": [
    "# Split data into training and testing sets\n",
    "X_train, X_test, y_train, y_test = train_test_split(X, y, test_size=0.2, random_state=42)"
   ]
  },
  {
   "cell_type": "code",
   "execution_count": 6,
   "id": "7b97c1d8",
   "metadata": {
    "execution": {
     "iopub.execute_input": "2023-07-27T17:42:08.694958Z",
     "iopub.status.busy": "2023-07-27T17:42:08.694325Z",
     "iopub.status.idle": "2023-07-27T17:42:08.731463Z",
     "shell.execute_reply": "2023-07-27T17:42:08.730331Z"
    },
    "papermill": {
     "duration": 0.045076,
     "end_time": "2023-07-27T17:42:08.733971",
     "exception": false,
     "start_time": "2023-07-27T17:42:08.688895",
     "status": "completed"
    },
    "tags": []
   },
   "outputs": [
    {
     "data": {
      "text/html": [
       "<style>#sk-container-id-1 {color: black;background-color: white;}#sk-container-id-1 pre{padding: 0;}#sk-container-id-1 div.sk-toggleable {background-color: white;}#sk-container-id-1 label.sk-toggleable__label {cursor: pointer;display: block;width: 100%;margin-bottom: 0;padding: 0.3em;box-sizing: border-box;text-align: center;}#sk-container-id-1 label.sk-toggleable__label-arrow:before {content: \"▸\";float: left;margin-right: 0.25em;color: #696969;}#sk-container-id-1 label.sk-toggleable__label-arrow:hover:before {color: black;}#sk-container-id-1 div.sk-estimator:hover label.sk-toggleable__label-arrow:before {color: black;}#sk-container-id-1 div.sk-toggleable__content {max-height: 0;max-width: 0;overflow: hidden;text-align: left;background-color: #f0f8ff;}#sk-container-id-1 div.sk-toggleable__content pre {margin: 0.2em;color: black;border-radius: 0.25em;background-color: #f0f8ff;}#sk-container-id-1 input.sk-toggleable__control:checked~div.sk-toggleable__content {max-height: 200px;max-width: 100%;overflow: auto;}#sk-container-id-1 input.sk-toggleable__control:checked~label.sk-toggleable__label-arrow:before {content: \"▾\";}#sk-container-id-1 div.sk-estimator input.sk-toggleable__control:checked~label.sk-toggleable__label {background-color: #d4ebff;}#sk-container-id-1 div.sk-label input.sk-toggleable__control:checked~label.sk-toggleable__label {background-color: #d4ebff;}#sk-container-id-1 input.sk-hidden--visually {border: 0;clip: rect(1px 1px 1px 1px);clip: rect(1px, 1px, 1px, 1px);height: 1px;margin: -1px;overflow: hidden;padding: 0;position: absolute;width: 1px;}#sk-container-id-1 div.sk-estimator {font-family: monospace;background-color: #f0f8ff;border: 1px dotted black;border-radius: 0.25em;box-sizing: border-box;margin-bottom: 0.5em;}#sk-container-id-1 div.sk-estimator:hover {background-color: #d4ebff;}#sk-container-id-1 div.sk-parallel-item::after {content: \"\";width: 100%;border-bottom: 1px solid gray;flex-grow: 1;}#sk-container-id-1 div.sk-label:hover label.sk-toggleable__label {background-color: #d4ebff;}#sk-container-id-1 div.sk-serial::before {content: \"\";position: absolute;border-left: 1px solid gray;box-sizing: border-box;top: 0;bottom: 0;left: 50%;z-index: 0;}#sk-container-id-1 div.sk-serial {display: flex;flex-direction: column;align-items: center;background-color: white;padding-right: 0.2em;padding-left: 0.2em;position: relative;}#sk-container-id-1 div.sk-item {position: relative;z-index: 1;}#sk-container-id-1 div.sk-parallel {display: flex;align-items: stretch;justify-content: center;background-color: white;position: relative;}#sk-container-id-1 div.sk-item::before, #sk-container-id-1 div.sk-parallel-item::before {content: \"\";position: absolute;border-left: 1px solid gray;box-sizing: border-box;top: 0;bottom: 0;left: 50%;z-index: -1;}#sk-container-id-1 div.sk-parallel-item {display: flex;flex-direction: column;z-index: 1;position: relative;background-color: white;}#sk-container-id-1 div.sk-parallel-item:first-child::after {align-self: flex-end;width: 50%;}#sk-container-id-1 div.sk-parallel-item:last-child::after {align-self: flex-start;width: 50%;}#sk-container-id-1 div.sk-parallel-item:only-child::after {width: 0;}#sk-container-id-1 div.sk-dashed-wrapped {border: 1px dashed gray;margin: 0 0.4em 0.5em 0.4em;box-sizing: border-box;padding-bottom: 0.4em;background-color: white;}#sk-container-id-1 div.sk-label label {font-family: monospace;font-weight: bold;display: inline-block;line-height: 1.2em;}#sk-container-id-1 div.sk-label-container {text-align: center;}#sk-container-id-1 div.sk-container {/* jupyter's `normalize.less` sets `[hidden] { display: none; }` but bootstrap.min.css set `[hidden] { display: none !important; }` so we also need the `!important` here to be able to override the default hidden behavior on the sphinx rendered scikit-learn.org. See: https://github.com/scikit-learn/scikit-learn/issues/21755 */display: inline-block !important;position: relative;}#sk-container-id-1 div.sk-text-repr-fallback {display: none;}</style><div id=\"sk-container-id-1\" class=\"sk-top-container\"><div class=\"sk-text-repr-fallback\"><pre>LinearRegression()</pre><b>In a Jupyter environment, please rerun this cell to show the HTML representation or trust the notebook. <br />On GitHub, the HTML representation is unable to render, please try loading this page with nbviewer.org.</b></div><div class=\"sk-container\" hidden><div class=\"sk-item\"><div class=\"sk-estimator sk-toggleable\"><input class=\"sk-toggleable__control sk-hidden--visually\" id=\"sk-estimator-id-1\" type=\"checkbox\" checked><label for=\"sk-estimator-id-1\" class=\"sk-toggleable__label sk-toggleable__label-arrow\">LinearRegression</label><div class=\"sk-toggleable__content\"><pre>LinearRegression()</pre></div></div></div></div></div>"
      ],
      "text/plain": [
       "LinearRegression()"
      ]
     },
     "execution_count": 6,
     "metadata": {},
     "output_type": "execute_result"
    }
   ],
   "source": [
    "# Train a linear regression model\n",
    "model = LinearRegression()\n",
    "model.fit(X_train, y_train)"
   ]
  },
  {
   "cell_type": "code",
   "execution_count": 7,
   "id": "85446312",
   "metadata": {
    "execution": {
     "iopub.execute_input": "2023-07-27T17:42:08.745884Z",
     "iopub.status.busy": "2023-07-27T17:42:08.745240Z",
     "iopub.status.idle": "2023-07-27T17:42:08.752389Z",
     "shell.execute_reply": "2023-07-27T17:42:08.751318Z"
    },
    "papermill": {
     "duration": 0.015496,
     "end_time": "2023-07-27T17:42:08.754590",
     "exception": false,
     "start_time": "2023-07-27T17:42:08.739094",
     "status": "completed"
    },
    "tags": []
   },
   "outputs": [],
   "source": [
    "# Make predictions on the test set\n",
    "y_pred = model.predict(X_test)"
   ]
  },
  {
   "cell_type": "code",
   "execution_count": 8,
   "id": "5d1abd41",
   "metadata": {
    "execution": {
     "iopub.execute_input": "2023-07-27T17:42:08.765222Z",
     "iopub.status.busy": "2023-07-27T17:42:08.764272Z",
     "iopub.status.idle": "2023-07-27T17:42:08.771739Z",
     "shell.execute_reply": "2023-07-27T17:42:08.770374Z"
    },
    "papermill": {
     "duration": 0.015388,
     "end_time": "2023-07-27T17:42:08.774229",
     "exception": false,
     "start_time": "2023-07-27T17:42:08.758841",
     "status": "completed"
    },
    "tags": []
   },
   "outputs": [
    {
     "name": "stdout",
     "output_type": "stream",
     "text": [
      "Mean Squared Error: 0.5300000000016294\n",
      "R-squared: -0.2544378698263421\n"
     ]
    }
   ],
   "source": [
    "# Evaluate the model\n",
    "mse = mean_squared_error(y_test, y_pred)\n",
    "r2 = r2_score(y_test, y_pred)\n",
    "\n",
    "print(f'Mean Squared Error: {mse}')\n",
    "print(f'R-squared: {r2}')\n"
   ]
  },
  {
   "cell_type": "code",
   "execution_count": 9,
   "id": "b42e5bf9",
   "metadata": {
    "execution": {
     "iopub.execute_input": "2023-07-27T17:42:08.784825Z",
     "iopub.status.busy": "2023-07-27T17:42:08.783794Z",
     "iopub.status.idle": "2023-07-27T17:42:08.793915Z",
     "shell.execute_reply": "2023-07-27T17:42:08.792682Z"
    },
    "papermill": {
     "duration": 0.017574,
     "end_time": "2023-07-27T17:42:08.796088",
     "exception": false,
     "start_time": "2023-07-27T17:42:08.778514",
     "status": "completed"
    },
    "tags": []
   },
   "outputs": [
    {
     "name": "stdout",
     "output_type": "stream",
     "text": [
      "Predicted Rating: 6.62499999999929\n"
     ]
    }
   ],
   "source": [
    "# Now you can use the model to predict movie ratings for new data\n",
    "new_data = {\n",
    "    'Budget': [11000000],\n",
    "    'Genre_Action': [1],\n",
    "    'Genre_Comedy': [0],\n",
    "    'Genre_Drama': [0],\n",
    "    'Director_Jane': [0],\n",
    "    'Director_John': [1]\n",
    "    \n",
    "}\n",
    "\n",
    "new_df = pd.DataFrame(new_data)\n",
    "predicted_rating = model.predict(new_df)\n",
    "\n",
    "print(f'Predicted Rating: {predicted_rating[0]}')"
   ]
  }
 ],
 "metadata": {
  "kernelspec": {
   "display_name": "Python 3",
   "language": "python",
   "name": "python3"
  },
  "language_info": {
   "codemirror_mode": {
    "name": "ipython",
    "version": 3
   },
   "file_extension": ".py",
   "mimetype": "text/x-python",
   "name": "python",
   "nbconvert_exporter": "python",
   "pygments_lexer": "ipython3",
   "version": "3.10.12"
  },
  "papermill": {
   "default_parameters": {},
   "duration": 13.772148,
   "end_time": "2023-07-27T17:42:09.721550",
   "environment_variables": {},
   "exception": null,
   "input_path": "__notebook__.ipynb",
   "output_path": "__notebook__.ipynb",
   "parameters": {},
   "start_time": "2023-07-27T17:41:55.949402",
   "version": "2.4.0"
  }
 },
 "nbformat": 4,
 "nbformat_minor": 5
}
